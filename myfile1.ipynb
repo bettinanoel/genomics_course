{
 "cells": [
  {
   "cell_type": "code",
   "execution_count": null,
   "id": "2669520c",
   "metadata": {},
   "outputs": [],
   "source": [
    "print(\"hey what's up.\")"
   ]
  }
 ],
 "metadata": {
  "kernelspec": {
   "display_name": "Python 3.9.5 - rstudio",
   "language": "python",
   "name": "rstudio-user-3.9.5"
  },
  "language_info": {
   "codemirror_mode": {
    "name": "ipython",
    "version": 3
   },
   "file_extension": ".py",
   "mimetype": "text/x-python",
   "name": "python",
   "nbconvert_exporter": "python",
   "pygments_lexer": "ipython3",
   "version": "3.9.5"
  }
 },
 "nbformat": 4,
 "nbformat_minor": 5
}
